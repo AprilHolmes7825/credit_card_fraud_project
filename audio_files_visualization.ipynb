{
 "cells": [
  {
   "cell_type": "code",
   "execution_count": 1,
   "metadata": {},
   "outputs": [],
   "source": [
    "import librosa\n",
    "import librosa.display\n",
    "import numpy as np\n",
    "import pandas as pd\n",
    "\n",
    "import os\n",
    "import sys\n",
    "import glob\n",
    "import numpy as np\n",
    "import librosa\n",
    "from scipy.io import wavfile\n",
    "\n",
    "import matplotlib.pyplot as plt\n",
    "import scipy.io.wavfile\n",
    "import numpy as np\n",
    "import sys"
   ]
  },
  {
   "cell_type": "code",
   "execution_count": 2,
   "metadata": {},
   "outputs": [],
   "source": [
    "df = pd.read_csv('emotion_capstone_final_dataframe_diego_rios.csv')"
   ]
  },
  {
   "cell_type": "code",
   "execution_count": 4,
   "metadata": {},
   "outputs": [
    {
     "data": {
      "text/plain": [
       "(1650, 42)"
      ]
     },
     "execution_count": 4,
     "metadata": {},
     "output_type": "execute_result"
    }
   ],
   "source": [
    "df.shape"
   ]
  },
  {
   "cell_type": "code",
   "execution_count": 5,
   "metadata": {},
   "outputs": [],
   "source": [
    "df = pd.DataFrame(data=df)"
   ]
  },
  {
   "cell_type": "code",
   "execution_count": 6,
   "metadata": {},
   "outputs": [
    {
     "data": {
      "text/html": [
       "<div>\n",
       "<style scoped>\n",
       "    .dataframe tbody tr th:only-of-type {\n",
       "        vertical-align: middle;\n",
       "    }\n",
       "\n",
       "    .dataframe tbody tr th {\n",
       "        vertical-align: top;\n",
       "    }\n",
       "\n",
       "    .dataframe thead th {\n",
       "        text-align: right;\n",
       "    }\n",
       "</style>\n",
       "<table border=\"1\" class=\"dataframe\">\n",
       "  <thead>\n",
       "    <tr style=\"text-align: right;\">\n",
       "      <th></th>\n",
       "      <th>Unnamed: 0</th>\n",
       "      <th>0</th>\n",
       "      <th>1</th>\n",
       "      <th>2</th>\n",
       "      <th>3</th>\n",
       "      <th>4</th>\n",
       "      <th>5</th>\n",
       "      <th>6</th>\n",
       "      <th>7</th>\n",
       "      <th>8</th>\n",
       "      <th>...</th>\n",
       "      <th>31</th>\n",
       "      <th>32</th>\n",
       "      <th>33</th>\n",
       "      <th>34</th>\n",
       "      <th>35</th>\n",
       "      <th>36</th>\n",
       "      <th>37</th>\n",
       "      <th>38</th>\n",
       "      <th>39</th>\n",
       "      <th>emotion</th>\n",
       "    </tr>\n",
       "  </thead>\n",
       "  <tbody>\n",
       "    <tr>\n",
       "      <th>0</th>\n",
       "      <td>0</td>\n",
       "      <td>-538.582600</td>\n",
       "      <td>35.243425</td>\n",
       "      <td>-30.747992</td>\n",
       "      <td>-4.713939</td>\n",
       "      <td>-24.287200</td>\n",
       "      <td>-28.510833</td>\n",
       "      <td>-8.198755</td>\n",
       "      <td>-19.057360</td>\n",
       "      <td>-32.790653</td>\n",
       "      <td>...</td>\n",
       "      <td>2.108608</td>\n",
       "      <td>-3.780626</td>\n",
       "      <td>-1.190477</td>\n",
       "      <td>-3.481775</td>\n",
       "      <td>2.912036</td>\n",
       "      <td>-0.400150</td>\n",
       "      <td>1.628702</td>\n",
       "      <td>1.101552</td>\n",
       "      <td>6.850189</td>\n",
       "      <td>sad</td>\n",
       "    </tr>\n",
       "    <tr>\n",
       "      <th>1</th>\n",
       "      <td>1</td>\n",
       "      <td>-364.720047</td>\n",
       "      <td>43.617947</td>\n",
       "      <td>-34.653851</td>\n",
       "      <td>10.752719</td>\n",
       "      <td>-20.092543</td>\n",
       "      <td>-0.001273</td>\n",
       "      <td>-8.163174</td>\n",
       "      <td>-11.540565</td>\n",
       "      <td>-12.117369</td>\n",
       "      <td>...</td>\n",
       "      <td>0.761090</td>\n",
       "      <td>4.569395</td>\n",
       "      <td>3.567171</td>\n",
       "      <td>5.384524</td>\n",
       "      <td>3.986758</td>\n",
       "      <td>5.376000</td>\n",
       "      <td>3.644780</td>\n",
       "      <td>4.226787</td>\n",
       "      <td>3.623126</td>\n",
       "      <td>fear</td>\n",
       "    </tr>\n",
       "    <tr>\n",
       "      <th>2</th>\n",
       "      <td>2</td>\n",
       "      <td>-369.794866</td>\n",
       "      <td>54.752695</td>\n",
       "      <td>-26.631102</td>\n",
       "      <td>11.850318</td>\n",
       "      <td>-0.902450</td>\n",
       "      <td>-14.502051</td>\n",
       "      <td>-19.313974</td>\n",
       "      <td>3.774104</td>\n",
       "      <td>-32.629978</td>\n",
       "      <td>...</td>\n",
       "      <td>0.385752</td>\n",
       "      <td>-0.509147</td>\n",
       "      <td>0.964693</td>\n",
       "      <td>-5.720672</td>\n",
       "      <td>-1.072865</td>\n",
       "      <td>-0.073243</td>\n",
       "      <td>8.256686</td>\n",
       "      <td>12.069094</td>\n",
       "      <td>17.757444</td>\n",
       "      <td>angry</td>\n",
       "    </tr>\n",
       "    <tr>\n",
       "      <th>3</th>\n",
       "      <td>3</td>\n",
       "      <td>-406.918108</td>\n",
       "      <td>64.360681</td>\n",
       "      <td>-15.485578</td>\n",
       "      <td>10.870121</td>\n",
       "      <td>2.481719</td>\n",
       "      <td>1.791258</td>\n",
       "      <td>-4.569793</td>\n",
       "      <td>-4.581908</td>\n",
       "      <td>-15.801368</td>\n",
       "      <td>...</td>\n",
       "      <td>3.091148</td>\n",
       "      <td>3.841770</td>\n",
       "      <td>4.850684</td>\n",
       "      <td>3.316991</td>\n",
       "      <td>4.564379</td>\n",
       "      <td>5.736926</td>\n",
       "      <td>8.067147</td>\n",
       "      <td>8.436432</td>\n",
       "      <td>10.685279</td>\n",
       "      <td>fear</td>\n",
       "    </tr>\n",
       "    <tr>\n",
       "      <th>4</th>\n",
       "      <td>4</td>\n",
       "      <td>-334.036507</td>\n",
       "      <td>74.829213</td>\n",
       "      <td>-38.256011</td>\n",
       "      <td>27.770226</td>\n",
       "      <td>-29.208698</td>\n",
       "      <td>9.513275</td>\n",
       "      <td>-17.288189</td>\n",
       "      <td>-8.666840</td>\n",
       "      <td>-11.751572</td>\n",
       "      <td>...</td>\n",
       "      <td>1.633055</td>\n",
       "      <td>4.203450</td>\n",
       "      <td>2.091459</td>\n",
       "      <td>4.882658</td>\n",
       "      <td>0.516885</td>\n",
       "      <td>2.380235</td>\n",
       "      <td>-0.010867</td>\n",
       "      <td>0.584694</td>\n",
       "      <td>1.208956</td>\n",
       "      <td>angry</td>\n",
       "    </tr>\n",
       "  </tbody>\n",
       "</table>\n",
       "<p>5 rows × 42 columns</p>\n",
       "</div>"
      ],
      "text/plain": [
       "   Unnamed: 0           0          1          2          3          4  \\\n",
       "0           0 -538.582600  35.243425 -30.747992  -4.713939 -24.287200   \n",
       "1           1 -364.720047  43.617947 -34.653851  10.752719 -20.092543   \n",
       "2           2 -369.794866  54.752695 -26.631102  11.850318  -0.902450   \n",
       "3           3 -406.918108  64.360681 -15.485578  10.870121   2.481719   \n",
       "4           4 -334.036507  74.829213 -38.256011  27.770226 -29.208698   \n",
       "\n",
       "           5          6          7          8  ...        31        32  \\\n",
       "0 -28.510833  -8.198755 -19.057360 -32.790653  ...  2.108608 -3.780626   \n",
       "1  -0.001273  -8.163174 -11.540565 -12.117369  ...  0.761090  4.569395   \n",
       "2 -14.502051 -19.313974   3.774104 -32.629978  ...  0.385752 -0.509147   \n",
       "3   1.791258  -4.569793  -4.581908 -15.801368  ...  3.091148  3.841770   \n",
       "4   9.513275 -17.288189  -8.666840 -11.751572  ...  1.633055  4.203450   \n",
       "\n",
       "         33        34        35        36        37         38         39  \\\n",
       "0 -1.190477 -3.481775  2.912036 -0.400150  1.628702   1.101552   6.850189   \n",
       "1  3.567171  5.384524  3.986758  5.376000  3.644780   4.226787   3.623126   \n",
       "2  0.964693 -5.720672 -1.072865 -0.073243  8.256686  12.069094  17.757444   \n",
       "3  4.850684  3.316991  4.564379  5.736926  8.067147   8.436432  10.685279   \n",
       "4  2.091459  4.882658  0.516885  2.380235 -0.010867   0.584694   1.208956   \n",
       "\n",
       "   emotion  \n",
       "0      sad  \n",
       "1     fear  \n",
       "2    angry  \n",
       "3     fear  \n",
       "4    angry  \n",
       "\n",
       "[5 rows x 42 columns]"
      ]
     },
     "execution_count": 6,
     "metadata": {},
     "output_type": "execute_result"
    }
   ],
   "source": [
    "df.head()"
   ]
  },
  {
   "cell_type": "code",
   "execution_count": 7,
   "metadata": {},
   "outputs": [
    {
     "data": {
      "text/html": [
       "<div>\n",
       "<style scoped>\n",
       "    .dataframe tbody tr th:only-of-type {\n",
       "        vertical-align: middle;\n",
       "    }\n",
       "\n",
       "    .dataframe tbody tr th {\n",
       "        vertical-align: top;\n",
       "    }\n",
       "\n",
       "    .dataframe thead th {\n",
       "        text-align: right;\n",
       "    }\n",
       "</style>\n",
       "<table border=\"1\" class=\"dataframe\">\n",
       "  <thead>\n",
       "    <tr style=\"text-align: right;\">\n",
       "      <th></th>\n",
       "      <th>0</th>\n",
       "      <th>1</th>\n",
       "      <th>2</th>\n",
       "      <th>3</th>\n",
       "      <th>4</th>\n",
       "      <th>5</th>\n",
       "      <th>6</th>\n",
       "      <th>7</th>\n",
       "      <th>8</th>\n",
       "      <th>9</th>\n",
       "      <th>...</th>\n",
       "      <th>31</th>\n",
       "      <th>32</th>\n",
       "      <th>33</th>\n",
       "      <th>34</th>\n",
       "      <th>35</th>\n",
       "      <th>36</th>\n",
       "      <th>37</th>\n",
       "      <th>38</th>\n",
       "      <th>39</th>\n",
       "      <th>emotion</th>\n",
       "    </tr>\n",
       "    <tr>\n",
       "      <th>Unnamed: 0</th>\n",
       "      <th></th>\n",
       "      <th></th>\n",
       "      <th></th>\n",
       "      <th></th>\n",
       "      <th></th>\n",
       "      <th></th>\n",
       "      <th></th>\n",
       "      <th></th>\n",
       "      <th></th>\n",
       "      <th></th>\n",
       "      <th></th>\n",
       "      <th></th>\n",
       "      <th></th>\n",
       "      <th></th>\n",
       "      <th></th>\n",
       "      <th></th>\n",
       "      <th></th>\n",
       "      <th></th>\n",
       "      <th></th>\n",
       "      <th></th>\n",
       "      <th></th>\n",
       "    </tr>\n",
       "  </thead>\n",
       "  <tbody>\n",
       "    <tr>\n",
       "      <th>0</th>\n",
       "      <td>-538.582600</td>\n",
       "      <td>35.243425</td>\n",
       "      <td>-30.747992</td>\n",
       "      <td>-4.713939</td>\n",
       "      <td>-24.287200</td>\n",
       "      <td>-28.510833</td>\n",
       "      <td>-8.198755</td>\n",
       "      <td>-19.057360</td>\n",
       "      <td>-32.790653</td>\n",
       "      <td>0.867368</td>\n",
       "      <td>...</td>\n",
       "      <td>2.108608</td>\n",
       "      <td>-3.780626</td>\n",
       "      <td>-1.190477</td>\n",
       "      <td>-3.481775</td>\n",
       "      <td>2.912036</td>\n",
       "      <td>-0.400150</td>\n",
       "      <td>1.628702</td>\n",
       "      <td>1.101552</td>\n",
       "      <td>6.850189</td>\n",
       "      <td>sad</td>\n",
       "    </tr>\n",
       "    <tr>\n",
       "      <th>1</th>\n",
       "      <td>-364.720047</td>\n",
       "      <td>43.617947</td>\n",
       "      <td>-34.653851</td>\n",
       "      <td>10.752719</td>\n",
       "      <td>-20.092543</td>\n",
       "      <td>-0.001273</td>\n",
       "      <td>-8.163174</td>\n",
       "      <td>-11.540565</td>\n",
       "      <td>-12.117369</td>\n",
       "      <td>-2.667049</td>\n",
       "      <td>...</td>\n",
       "      <td>0.761090</td>\n",
       "      <td>4.569395</td>\n",
       "      <td>3.567171</td>\n",
       "      <td>5.384524</td>\n",
       "      <td>3.986758</td>\n",
       "      <td>5.376000</td>\n",
       "      <td>3.644780</td>\n",
       "      <td>4.226787</td>\n",
       "      <td>3.623126</td>\n",
       "      <td>fear</td>\n",
       "    </tr>\n",
       "    <tr>\n",
       "      <th>2</th>\n",
       "      <td>-369.794866</td>\n",
       "      <td>54.752695</td>\n",
       "      <td>-26.631102</td>\n",
       "      <td>11.850318</td>\n",
       "      <td>-0.902450</td>\n",
       "      <td>-14.502051</td>\n",
       "      <td>-19.313974</td>\n",
       "      <td>3.774104</td>\n",
       "      <td>-32.629978</td>\n",
       "      <td>-5.584020</td>\n",
       "      <td>...</td>\n",
       "      <td>0.385752</td>\n",
       "      <td>-0.509147</td>\n",
       "      <td>0.964693</td>\n",
       "      <td>-5.720672</td>\n",
       "      <td>-1.072865</td>\n",
       "      <td>-0.073243</td>\n",
       "      <td>8.256686</td>\n",
       "      <td>12.069094</td>\n",
       "      <td>17.757444</td>\n",
       "      <td>angry</td>\n",
       "    </tr>\n",
       "    <tr>\n",
       "      <th>3</th>\n",
       "      <td>-406.918108</td>\n",
       "      <td>64.360681</td>\n",
       "      <td>-15.485578</td>\n",
       "      <td>10.870121</td>\n",
       "      <td>2.481719</td>\n",
       "      <td>1.791258</td>\n",
       "      <td>-4.569793</td>\n",
       "      <td>-4.581908</td>\n",
       "      <td>-15.801368</td>\n",
       "      <td>-0.447265</td>\n",
       "      <td>...</td>\n",
       "      <td>3.091148</td>\n",
       "      <td>3.841770</td>\n",
       "      <td>4.850684</td>\n",
       "      <td>3.316991</td>\n",
       "      <td>4.564379</td>\n",
       "      <td>5.736926</td>\n",
       "      <td>8.067147</td>\n",
       "      <td>8.436432</td>\n",
       "      <td>10.685279</td>\n",
       "      <td>fear</td>\n",
       "    </tr>\n",
       "    <tr>\n",
       "      <th>4</th>\n",
       "      <td>-334.036507</td>\n",
       "      <td>74.829213</td>\n",
       "      <td>-38.256011</td>\n",
       "      <td>27.770226</td>\n",
       "      <td>-29.208698</td>\n",
       "      <td>9.513275</td>\n",
       "      <td>-17.288189</td>\n",
       "      <td>-8.666840</td>\n",
       "      <td>-11.751572</td>\n",
       "      <td>-7.365349</td>\n",
       "      <td>...</td>\n",
       "      <td>1.633055</td>\n",
       "      <td>4.203450</td>\n",
       "      <td>2.091459</td>\n",
       "      <td>4.882658</td>\n",
       "      <td>0.516885</td>\n",
       "      <td>2.380235</td>\n",
       "      <td>-0.010867</td>\n",
       "      <td>0.584694</td>\n",
       "      <td>1.208956</td>\n",
       "      <td>angry</td>\n",
       "    </tr>\n",
       "    <tr>\n",
       "      <th>...</th>\n",
       "      <td>...</td>\n",
       "      <td>...</td>\n",
       "      <td>...</td>\n",
       "      <td>...</td>\n",
       "      <td>...</td>\n",
       "      <td>...</td>\n",
       "      <td>...</td>\n",
       "      <td>...</td>\n",
       "      <td>...</td>\n",
       "      <td>...</td>\n",
       "      <td>...</td>\n",
       "      <td>...</td>\n",
       "      <td>...</td>\n",
       "      <td>...</td>\n",
       "      <td>...</td>\n",
       "      <td>...</td>\n",
       "      <td>...</td>\n",
       "      <td>...</td>\n",
       "      <td>...</td>\n",
       "      <td>...</td>\n",
       "      <td>...</td>\n",
       "    </tr>\n",
       "    <tr>\n",
       "      <th>1645</th>\n",
       "      <td>-415.494457</td>\n",
       "      <td>131.251707</td>\n",
       "      <td>19.714249</td>\n",
       "      <td>41.465525</td>\n",
       "      <td>21.793958</td>\n",
       "      <td>2.420262</td>\n",
       "      <td>-22.920500</td>\n",
       "      <td>-3.936363</td>\n",
       "      <td>2.670032</td>\n",
       "      <td>-6.236417</td>\n",
       "      <td>...</td>\n",
       "      <td>1.151855</td>\n",
       "      <td>1.076498</td>\n",
       "      <td>0.391692</td>\n",
       "      <td>0.864456</td>\n",
       "      <td>1.311676</td>\n",
       "      <td>1.085401</td>\n",
       "      <td>0.708957</td>\n",
       "      <td>0.036128</td>\n",
       "      <td>0.840269</td>\n",
       "      <td>neutral</td>\n",
       "    </tr>\n",
       "    <tr>\n",
       "      <th>1646</th>\n",
       "      <td>-635.474866</td>\n",
       "      <td>167.730048</td>\n",
       "      <td>30.205711</td>\n",
       "      <td>17.065144</td>\n",
       "      <td>5.194390</td>\n",
       "      <td>-2.743508</td>\n",
       "      <td>-4.141929</td>\n",
       "      <td>0.789719</td>\n",
       "      <td>-7.846973</td>\n",
       "      <td>-10.425187</td>\n",
       "      <td>...</td>\n",
       "      <td>1.100903</td>\n",
       "      <td>-1.734579</td>\n",
       "      <td>-2.079795</td>\n",
       "      <td>0.411047</td>\n",
       "      <td>-0.041975</td>\n",
       "      <td>1.113372</td>\n",
       "      <td>0.308660</td>\n",
       "      <td>-3.263315</td>\n",
       "      <td>-2.305748</td>\n",
       "      <td>sad</td>\n",
       "    </tr>\n",
       "    <tr>\n",
       "      <th>1647</th>\n",
       "      <td>-336.873637</td>\n",
       "      <td>100.313581</td>\n",
       "      <td>13.804377</td>\n",
       "      <td>49.151291</td>\n",
       "      <td>-3.635928</td>\n",
       "      <td>-7.477827</td>\n",
       "      <td>0.873587</td>\n",
       "      <td>0.002001</td>\n",
       "      <td>-10.594406</td>\n",
       "      <td>3.350447</td>\n",
       "      <td>...</td>\n",
       "      <td>1.565846</td>\n",
       "      <td>1.800377</td>\n",
       "      <td>1.698116</td>\n",
       "      <td>4.018987</td>\n",
       "      <td>2.561137</td>\n",
       "      <td>1.892531</td>\n",
       "      <td>4.569093</td>\n",
       "      <td>4.453944</td>\n",
       "      <td>2.217581</td>\n",
       "      <td>sad</td>\n",
       "    </tr>\n",
       "    <tr>\n",
       "      <th>1648</th>\n",
       "      <td>-371.012883</td>\n",
       "      <td>117.968202</td>\n",
       "      <td>14.376877</td>\n",
       "      <td>27.777501</td>\n",
       "      <td>19.475123</td>\n",
       "      <td>4.367465</td>\n",
       "      <td>-25.722515</td>\n",
       "      <td>-1.605762</td>\n",
       "      <td>0.467212</td>\n",
       "      <td>-14.876671</td>\n",
       "      <td>...</td>\n",
       "      <td>-1.799376</td>\n",
       "      <td>0.576379</td>\n",
       "      <td>5.827102</td>\n",
       "      <td>11.782299</td>\n",
       "      <td>19.509399</td>\n",
       "      <td>23.288098</td>\n",
       "      <td>21.102057</td>\n",
       "      <td>14.264395</td>\n",
       "      <td>6.942214</td>\n",
       "      <td>sad</td>\n",
       "    </tr>\n",
       "    <tr>\n",
       "      <th>1649</th>\n",
       "      <td>-337.345026</td>\n",
       "      <td>104.216375</td>\n",
       "      <td>16.849581</td>\n",
       "      <td>46.665592</td>\n",
       "      <td>-1.255930</td>\n",
       "      <td>1.107222</td>\n",
       "      <td>-24.679948</td>\n",
       "      <td>-15.509162</td>\n",
       "      <td>-10.454093</td>\n",
       "      <td>0.151585</td>\n",
       "      <td>...</td>\n",
       "      <td>7.915773</td>\n",
       "      <td>7.512978</td>\n",
       "      <td>7.552236</td>\n",
       "      <td>4.687781</td>\n",
       "      <td>2.848033</td>\n",
       "      <td>2.932143</td>\n",
       "      <td>3.488086</td>\n",
       "      <td>2.727236</td>\n",
       "      <td>3.311325</td>\n",
       "      <td>fear</td>\n",
       "    </tr>\n",
       "  </tbody>\n",
       "</table>\n",
       "<p>1650 rows × 41 columns</p>\n",
       "</div>"
      ],
      "text/plain": [
       "                     0           1          2          3          4  \\\n",
       "Unnamed: 0                                                            \n",
       "0          -538.582600   35.243425 -30.747992  -4.713939 -24.287200   \n",
       "1          -364.720047   43.617947 -34.653851  10.752719 -20.092543   \n",
       "2          -369.794866   54.752695 -26.631102  11.850318  -0.902450   \n",
       "3          -406.918108   64.360681 -15.485578  10.870121   2.481719   \n",
       "4          -334.036507   74.829213 -38.256011  27.770226 -29.208698   \n",
       "...                ...         ...        ...        ...        ...   \n",
       "1645       -415.494457  131.251707  19.714249  41.465525  21.793958   \n",
       "1646       -635.474866  167.730048  30.205711  17.065144   5.194390   \n",
       "1647       -336.873637  100.313581  13.804377  49.151291  -3.635928   \n",
       "1648       -371.012883  117.968202  14.376877  27.777501  19.475123   \n",
       "1649       -337.345026  104.216375  16.849581  46.665592  -1.255930   \n",
       "\n",
       "                    5          6          7          8          9  ...  \\\n",
       "Unnamed: 0                                                         ...   \n",
       "0          -28.510833  -8.198755 -19.057360 -32.790653   0.867368  ...   \n",
       "1           -0.001273  -8.163174 -11.540565 -12.117369  -2.667049  ...   \n",
       "2          -14.502051 -19.313974   3.774104 -32.629978  -5.584020  ...   \n",
       "3            1.791258  -4.569793  -4.581908 -15.801368  -0.447265  ...   \n",
       "4            9.513275 -17.288189  -8.666840 -11.751572  -7.365349  ...   \n",
       "...               ...        ...        ...        ...        ...  ...   \n",
       "1645         2.420262 -22.920500  -3.936363   2.670032  -6.236417  ...   \n",
       "1646        -2.743508  -4.141929   0.789719  -7.846973 -10.425187  ...   \n",
       "1647        -7.477827   0.873587   0.002001 -10.594406   3.350447  ...   \n",
       "1648         4.367465 -25.722515  -1.605762   0.467212 -14.876671  ...   \n",
       "1649         1.107222 -24.679948 -15.509162 -10.454093   0.151585  ...   \n",
       "\n",
       "                  31        32        33         34         35         36  \\\n",
       "Unnamed: 0                                                                  \n",
       "0           2.108608 -3.780626 -1.190477  -3.481775   2.912036  -0.400150   \n",
       "1           0.761090  4.569395  3.567171   5.384524   3.986758   5.376000   \n",
       "2           0.385752 -0.509147  0.964693  -5.720672  -1.072865  -0.073243   \n",
       "3           3.091148  3.841770  4.850684   3.316991   4.564379   5.736926   \n",
       "4           1.633055  4.203450  2.091459   4.882658   0.516885   2.380235   \n",
       "...              ...       ...       ...        ...        ...        ...   \n",
       "1645        1.151855  1.076498  0.391692   0.864456   1.311676   1.085401   \n",
       "1646        1.100903 -1.734579 -2.079795   0.411047  -0.041975   1.113372   \n",
       "1647        1.565846  1.800377  1.698116   4.018987   2.561137   1.892531   \n",
       "1648       -1.799376  0.576379  5.827102  11.782299  19.509399  23.288098   \n",
       "1649        7.915773  7.512978  7.552236   4.687781   2.848033   2.932143   \n",
       "\n",
       "                   37         38         39  emotion  \n",
       "Unnamed: 0                                            \n",
       "0            1.628702   1.101552   6.850189      sad  \n",
       "1            3.644780   4.226787   3.623126     fear  \n",
       "2            8.256686  12.069094  17.757444    angry  \n",
       "3            8.067147   8.436432  10.685279     fear  \n",
       "4           -0.010867   0.584694   1.208956    angry  \n",
       "...               ...        ...        ...      ...  \n",
       "1645         0.708957   0.036128   0.840269  neutral  \n",
       "1646         0.308660  -3.263315  -2.305748      sad  \n",
       "1647         4.569093   4.453944   2.217581      sad  \n",
       "1648        21.102057  14.264395   6.942214      sad  \n",
       "1649         3.488086   2.727236   3.311325     fear  \n",
       "\n",
       "[1650 rows x 41 columns]"
      ]
     },
     "execution_count": 7,
     "metadata": {},
     "output_type": "execute_result"
    }
   ],
   "source": [
    "df.set_index('Unnamed: 0')"
   ]
  },
  {
   "cell_type": "code",
   "execution_count": 8,
   "metadata": {},
   "outputs": [
    {
     "data": {
      "text/plain": [
       "<function matplotlib.pyplot.figure(num=None, figsize=None, dpi=None, *, facecolor=None, edgecolor=None, frameon=True, FigureClass=<class 'matplotlib.figure.Figure'>, clear=False, **kwargs)>"
      ]
     },
     "execution_count": 8,
     "metadata": {},
     "output_type": "execute_result"
    },
    {
     "data": {
      "image/png": "[encoded data removed]",
      "text/plain": [
       "<Figure size 640x480 with 1 Axes>"
      ]
     },
     "metadata": {},
     "output_type": "display_data"
    }
   ],
   "source": [
    "plt.figure()\n",
    "plt.hist(df['emotion'], bins=9, width=0.5)\n",
    "plt.figure"
   ]
  },
  {
   "cell_type": "markdown",
   "metadata": {},
   "source": [
    "## Graph audio files"
   ]
  },
  {
   "cell_type": "code",
   "execution_count": 3,
   "metadata": {},
   "outputs": [],
   "source": [
    "sample_file = \"03-01-01-01-01-01-03.wav\""
   ]
  },
  {
   "cell_type": "code",
   "execution_count": 5,
   "metadata": {},
   "outputs": [],
   "source": [
    "#sample \n",
    "#librosa.core.load(path, sr=22050, mono=True, offset=0.0, duration=None, dtype=<class 'numpy.float32'>, res_type='kaiser_best')\n",
    "res_type_s = 'kaiser_best'\n",
    "duration_s = None\n",
    "sample_rate_s = 22050\n",
    "offset_s = 0.5\n",
    "\n",
    "#Mfcc\n",
    "#librosa.feature.mfcc(y=None, sr=22050, S=None, n_mfcc=20, dct_type=2, norm='ortho', lifter=0, **kwargs)\n",
    "mfcc_sample_rate = 22050\n",
    "n_feat = 13\n",
    "n_mfcc = 40 #number of MFCCs to return => number of features\n",
    "n_fft = 552\n",
    "window = 0.4\n",
    "test_shift = 0.1\n",
    "duration = 2.5\n",
    "axis_mfcc = 1 #axis =0 means along the columns and axis =1 along the row"
   ]
  },
  {
   "cell_type": "code",
   "execution_count": 6,
   "metadata": {},
   "outputs": [
    {
     "name": "stdout",
     "output_type": "stream",
     "text": [
      "[ 0.0000000e+00  0.0000000e+00  0.0000000e+00 ...  3.7317375e-05\n",
      " -5.8841056e-06  0.0000000e+00]\n",
      "22050\n"
     ]
    }
   ],
   "source": [
    "# X = audio time series\n",
    "# sample_rate = sampling rate of X\n",
    "\n",
    "\n",
    "X, sample_rate = librosa.load(sample_file, \n",
    "                                  res_type = res_type_s,\n",
    "                                  duration = duration_s,\n",
    "                                  sr = sample_rate_s,\n",
    "                                  offset = offset_s,\n",
    "                                 mono=False)\n",
    "\n",
    "print(X)\n",
    "print(sample_rate)"
   ]
  },
  {
   "cell_type": "code",
   "execution_count": 7,
   "metadata": {},
   "outputs": [
    {
     "name": "stdout",
     "output_type": "stream",
     "text": [
      "[0.00000000e+00 4.53514739e-05 9.07029478e-05 ... 2.93664399e+00\n",
      " 2.93668934e+00 2.93673469e+00]\n"
     ]
    }
   ],
   "source": [
    "time = np.arange(0,len(X))/sample_rate\n",
    "print(time) # prints timeline"
   ]
  },
  {
   "cell_type": "code",
   "execution_count": 8,
   "metadata": {},
   "outputs": [
    {
     "data": {
      "image/png": "[encoded data removed]",
      "text/plain": [
       "<Figure size 640x480 with 1 Axes>"
      ]
     },
     "metadata": {},
     "output_type": "display_data"
    }
   ],
   "source": [
    "fig, ax = plt.subplots()\n",
    "ax.plot(time,X)\n",
    "ax.set(xlabel='Time(s)',ylabel='Sound amplitude')\n",
    "plt.show()"
   ]
  },
  {
   "cell_type": "code",
   "execution_count": 9,
   "metadata": {
    "scrolled": true
   },
   "outputs": [
    {
     "name": "stdout",
     "output_type": "stream",
     "text": [
      "[[0. 0. 0. ... 0. 0. 0.]\n",
      " [0. 0. 0. ... 0. 0. 0.]\n",
      " [0. 0. 0. ... 0. 0. 0.]\n",
      " ...\n",
      " [0. 0. 0. ... 0. 0. 0.]\n",
      " [0. 0. 0. ... 0. 0. 0.]\n",
      " [0. 0. 0. ... 0. 0. 0.]]\n",
      "///\n",
      "[[0. 0. 0. ... 0. 0. 0.]\n",
      " [0. 0. 0. ... 0. 0. 0.]\n",
      " [0. 0. 0. ... 0. 0. 0.]\n",
      " ...\n",
      " [0. 0. 0. ... 0. 0. 0.]\n",
      " [0. 0. 0. ... 0. 0. 0.]\n",
      " [0. 0. 0. ... 0. 0. 0.]]\n"
     ]
    },
    {
     "data": {
      "image/png": "[encoded data removed]",
      "text/plain": [
       "<Figure size 640x480 with 1 Axes>"
      ]
     },
     "metadata": {},
     "output_type": "display_data"
    },
    {
     "data": {
      "image/png": "[encoded data removed]",
      "text/plain": [
       "<Figure size 640x480 with 1 Axes>"
      ]
     },
     "metadata": {},
     "output_type": "display_data"
    }
   ],
   "source": [
    "pitches, magnitudes = librosa.piptrack(y=X, sr=sample_rate)\n",
    "print(pitches)\n",
    "print('///')\n",
    "print(magnitudes)\n",
    "plt.subplot(212)\n",
    "plt.show()\n",
    "plt.plot(pitches)\n",
    "plt.show()"
   ]
  },
  {
   "cell_type": "code",
   "execution_count": 10,
   "metadata": {},
   "outputs": [
    {
     "data": {
      "text/plain": [
       "Text(0.5, 1.0, 'Linear-frequency power spectrogram')"
      ]
     },
     "execution_count": 10,
     "metadata": {},
     "output_type": "execute_result"
    },
    {
     "data": {
      "image/png": "[encoded data removed]",
      "text/plain": [
       "<Figure size 1000x400 with 2 Axes>"
      ]
     },
     "metadata": {},
     "output_type": "display_data"
    }
   ],
   "source": [
    "y, sr = librosa.load(sample_file)\n",
    "plt.figure(figsize=(10, 4))\n",
    "\n",
    "D = librosa.amplitude_to_db(np.abs(librosa.stft(y)), ref=np.max)\n",
    "plt.subplot(4, 2, 1)\n",
    "librosa.display.specshow(D, y_axis='linear')\n",
    "plt.colorbar(format='%+2.0f dB')\n",
    "plt.title('Linear-frequency power spectrogram')"
   ]
  },
  {
   "cell_type": "code",
   "execution_count": 11,
   "metadata": {},
   "outputs": [
    {
     "name": "stdout",
     "output_type": "stream",
     "text": [
      "(40, 149)\n"
     ]
    }
   ],
   "source": [
    "librosa_audio, librosa_sample_rate = librosa.load(sample_file)\n",
    "\n",
    "mfccs = librosa.feature.mfcc(y=librosa_audio, sr=librosa_sample_rate, n_mfcc=40)\n",
    "print(mfccs.shape)"
   ]
  },
  {
   "cell_type": "code",
   "execution_count": 12,
   "metadata": {},
   "outputs": [
    {
     "data": {
      "text/plain": [
       "<matplotlib.collections.QuadMesh at 0x23796bde6b0>"
      ]
     },
     "execution_count": 12,
     "metadata": {},
     "output_type": "execute_result"
    },
    {
     "data": {
      "image/png": "[encoded data removed]",
      "text/plain": [
       "<Figure size 640x480 with 1 Axes>"
      ]
     },
     "metadata": {},
     "output_type": "display_data"
    }
   ],
   "source": [
    "import librosa.display\n",
    "librosa.display.specshow(mfccs, sr=librosa_sample_rate, x_axis='time')\n",
    "\n",
    "\n"
   ]
  },
  {
   "cell_type": "code",
   "execution_count": 13,
   "metadata": {},
   "outputs": [
    {
     "ename": "NameError",
     "evalue": "name 'stft_db' is not defined",
     "output_type": "error",
     "traceback": [
      "\u001b[1;31m---------------------------------------------------------------------------\u001b[0m",
      "\u001b[1;31mNameError\u001b[0m                                 Traceback (most recent call last)",
      "Cell \u001b[1;32mIn[13], line 7\u001b[0m\n\u001b[0;32m      5\u001b[0m plt\u001b[38;5;241m.\u001b[39msubplot(\u001b[38;5;241m211\u001b[39m)\n\u001b[0;32m      6\u001b[0m plt\u001b[38;5;241m.\u001b[39mtitle(\u001b[38;5;124m'\u001b[39m\u001b[38;5;124mSpectrogram\u001b[39m\u001b[38;5;124m'\u001b[39m)\n\u001b[1;32m----> 7\u001b[0m librosa\u001b[38;5;241m.\u001b[39mdisplay\u001b[38;5;241m.\u001b[39mspecshow(\u001b[43mstft_db\u001b[49m, x_axis\u001b[38;5;241m=\u001b[39m\u001b[38;5;124m'\u001b[39m\u001b[38;5;124mtime\u001b[39m\u001b[38;5;124m'\u001b[39m, y_axis\u001b[38;5;241m=\u001b[39m\u001b[38;5;124m'\u001b[39m\u001b[38;5;124mlog\u001b[39m\u001b[38;5;124m'\u001b[39m)\n\u001b[0;32m      9\u001b[0m plt\u001b[38;5;241m.\u001b[39msubplot(\u001b[38;5;241m212\u001b[39m)\n\u001b[0;32m     10\u001b[0m plt\u001b[38;5;241m.\u001b[39mtitle(\u001b[38;5;124m'\u001b[39m\u001b[38;5;124mAudioform\u001b[39m\u001b[38;5;124m'\u001b[39m)\n",
      "\u001b[1;31mNameError\u001b[0m: name 'stft_db' is not defined"
     ]
    },
    {
     "data": {
      "image/png": "[encoded data removed]",
      "text/plain": [
       "<Figure size 1400x900 with 1 Axes>"
      ]
     },
     "metadata": {},
     "output_type": "display_data"
    }
   ],
   "source": [
    "plt.figure(figsize=(14, 9))\n",
    "\n",
    "plt.figure(1)\n",
    "\n",
    "plt.subplot(211)\n",
    "plt.title('Spectrogram')\n",
    "librosa.display.specshow(stft_db, x_axis='time', y_axis='log')\n",
    "\n",
    "plt.subplot(212)\n",
    "plt.title('Audioform')\n",
    "librosa.display.waveplot(y, sr=sr)"
   ]
  },
  {
   "cell_type": "code",
   "execution_count": null,
   "metadata": {},
   "outputs": [],
   "source": [
    "librosa.feature.melspectrogram(y=X, sr=sample_rate)\n",
    "\n",
    "D = np.abs(librosa.stft(X))**2\n",
    "S = librosa.feature.melspectrogram(S=D)\n",
    "S = librosa.feature.melspectrogram(y=X, sr=sample_rate, n_mels=128,fmax=8000)\n",
    "plt.figure(figsize=(10, 4))\n",
    "librosa.display.specshow(librosa.power_to_db(S,ref=np.max),y_axis='mel', fmax=8000,x_axis='time')\n",
    "plt.colorbar(format='%+2.0f dB')\n",
    "plt.title('Mel spectrogram')\n",
    "plt.tight_layout()\n",
    "plt.show()"
   ]
  },
  {
   "cell_type": "code",
   "execution_count": null,
   "metadata": {},
   "outputs": [],
   "source": [
    "y_fast = librosa.effects.time_stretch(X, 2.0)\n",
    "time = np.arange(0,len(y_fast))/sample_rate\n",
    "fig, ax = plt.subplots()\n",
    "ax.plot(time,y_fast)\n",
    "ax.set(xlabel='Time(s)',ylabel='sound amplitude')\n",
    "plt.show()#compress to be twice as fast\n",
    "\n",
    "y_slow = librosa.effects.time_stretch(X, 0.5)\n",
    "time = np.arange(0,len(y_slow))/sr\n",
    "fig, ax = plt.subplots()\n",
    "ax.plot(time,y_slow)\n",
    "ax.set(xlabel='Time(s)',ylabel='sound amplitude')\n",
    "plt.show()#half the original speed"
   ]
  },
  {
   "cell_type": "code",
   "execution_count": null,
   "metadata": {},
   "outputs": [],
   "source": [
    "S = np.abs(librosa.stft(X))\n",
    "S"
   ]
  },
  {
   "cell_type": "code",
   "execution_count": null,
   "metadata": {},
   "outputs": [],
   "source": [
    "#lms = librosa.power_to_db(S)\n",
    "#lms\n",
    "\n",
    "log_S = librosa.amplitude_to_db(S, ref=np.max)"
   ]
  },
  {
   "cell_type": "code",
   "execution_count": null,
   "metadata": {},
   "outputs": [],
   "source": [
    "from librosa.core import istft\n",
    "vocals = istft(log_S)"
   ]
  },
  {
   "cell_type": "code",
   "execution_count": null,
   "metadata": {},
   "outputs": [],
   "source": [
    "mfccs_test = librosa.feature.mfcc(y=vocals, sr = mfcc_sample_rate, n_mfcc = n_mfcc)\n",
    "mfccs_test"
   ]
  },
  {
   "cell_type": "code",
   "execution_count": null,
   "metadata": {},
   "outputs": [],
   "source": [
    "mfccs_final = np.mean(mfccs_test,axis = axis_mfcc)\n",
    "mfccs_final"
   ]
  },
  {
   "cell_type": "code",
   "execution_count": null,
   "metadata": {},
   "outputs": [],
   "source": [
    "S = np.abs(librosa.stft(X))\n",
    "    lms = librosa.power_to_db(S**2)\n",
    "    #lms = librosa.amplitude_to_db(librosa.feature.melspectrogram(y=X,sr=sample_rate))\n",
    "    mfccs = np.mean(librosa.feature.mfcc(   y=lms, \n",
    "                                            sr = mfcc_sample_rate, \n",
    "                                            n_mfcc = n_mfcc), \n",
    "                                            axis = axis_mfcc) #Can"
   ]
  },
  {
   "cell_type": "code",
   "execution_count": null,
   "metadata": {},
   "outputs": [],
   "source": [
    "sample_rate = np.array(sample_rate)\n",
    "sample_rate"
   ]
  },
  {
   "cell_type": "code",
   "execution_count": null,
   "metadata": {},
   "outputs": [],
   "source": [
    "print(f\"n_mfcc = {n_mfcc}\")\n",
    "print(f\"sr = {mfcc_sample_rate}\")\n",
    "\n",
    "z = librosa.feature.mfcc(X, sr = mfcc_sample_rate, n_mfcc = n_mfcc)\n",
    "for x in z:\n",
    "    print(x)"
   ]
  },
  {
   "cell_type": "code",
   "execution_count": null,
   "metadata": {},
   "outputs": [],
   "source": [
    "mfccs = np.mean(z, axis=1)\n",
    "mfccs"
   ]
  },
  {
   "cell_type": "code",
   "execution_count": null,
   "metadata": {},
   "outputs": [],
   "source": [
    "import seaborn as sns\n",
    "# Put this into a heatmap\n",
    "_min = np.amin(mfccs)\n",
    "_max = np.amax(mfccs)\n",
    "mfcc = (mfccs - _min) / (_max - _min)\n",
    "\n",
    "\n",
    "plt.figure(figsize = (6,4))\n",
    "sns.heatmap(mfcc, cmap = 'GnBu', linewidth = 1)\n",
    "plt.axis('off')"
   ]
  },
  {
   "cell_type": "code",
   "execution_count": null,
   "metadata": {},
   "outputs": [],
   "source": [
    "y,sr = librosa.load(sample_file)\n",
    "print(librosa.get_duration(filename=sample_file))\n",
    "print(librosa.get_duration(y=y,sr=sr))"
   ]
  },
  {
   "cell_type": "code",
   "execution_count": null,
   "metadata": {},
   "outputs": [],
   "source": [
    "\n",
    "    \n",
    "    mfccs = np.mean(librosa.feature.mfcc(y=X, \n",
    "                                            sr = mfcc_sample_rate, \n",
    "                                            n_mfcc = n_mfcc), \n",
    "                    axis = axis_mfcc) #Can change to axis=0 but less efficient\n",
    "    feature = mfccs\n",
    "    rawdata_1.loc[bookmark] = [feature]"
   ]
  },
  {
   "cell_type": "code",
   "execution_count": null,
   "metadata": {},
   "outputs": [],
   "source": []
  }
 ],
 "metadata": {
  "kernelspec": {
   "display_name": "Python 3",
   "language": "python",
   "name": "python3"
  },
  "language_info": {
   "codemirror_mode": {
    "name": "ipython",
    "version": 3
   },
   "file_extension": ".py",
   "mimetype": "text/x-python",
   "name": "python",
   "nbconvert_exporter": "python",
   "pygments_lexer": "ipython3",
   "version": "3.10.13"
  }
 },
 "nbformat": 4,
 "nbformat_minor": 4
}
